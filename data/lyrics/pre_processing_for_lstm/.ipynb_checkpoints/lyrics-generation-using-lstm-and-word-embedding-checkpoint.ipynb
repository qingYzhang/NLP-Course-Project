{
 "cells": [
  {
   "cell_type": "code",
   "execution_count": null,
   "metadata": {
    "execution": {
     "iopub.execute_input": "2023-12-01T18:28:45.708640Z",
     "iopub.status.busy": "2023-12-01T18:28:45.708007Z",
     "iopub.status.idle": "2023-12-01T18:28:45.724513Z",
     "shell.execute_reply": "2023-12-01T18:28:45.722938Z",
     "shell.execute_reply.started": "2023-12-01T18:28:45.708440Z"
    }
   },
   "outputs": [],
   "source": [
    "# This Python 3 environment comes with many helpful analytics libraries installed\n",
    "# It is defined by the kaggle/python Docker image: https://github.com/kaggle/docker-python\n",
    "# For example, here's several helpful packages to load\n",
    "\n",
    "import numpy as np # linear algebra\n",
    "import pandas as pd # data processing, CSV file I/O (e.g. pd.read_csv)\n",
    "\n",
    "# Input data files are available in the read-only \"../input/\" directory\n",
    "# For example, running this (by clicking run or pressing Shift+Enter) will list all files under the input directory\n",
    "\n",
    "import os\n",
    "for dirname, _, filenames in os.walk('/kaggle/input'):\n",
    "    for filename in filenames:\n",
    "        print(os.path.join(dirname, filename))\n",
    "\n",
    "# You can write up to 20GB to the current directory (/kaggle/working/) that gets preserved as output when you create a version using \"Save & Run All\" \n",
    "# You can also write temporary files to /kaggle/temp/, but they won't be saved outside of the current session"
   ]
  },
  {
   "cell_type": "code",
   "execution_count": null,
   "metadata": {
    "execution": {
     "iopub.execute_input": "2023-12-01T18:28:45.728296Z",
     "iopub.status.busy": "2023-12-01T18:28:45.727824Z",
     "iopub.status.idle": "2023-12-01T18:28:53.295504Z",
     "shell.execute_reply": "2023-12-01T18:28:53.294454Z",
     "shell.execute_reply.started": "2023-12-01T18:28:45.728256Z"
    },
    "id": "Fob8mQTJzOKt"
   },
   "outputs": [],
   "source": [
    "import pandas as pd\n",
    "import numpy as np\n",
    "import matplotlib.pyplot as plt\n",
    "import seaborn as sns\n",
    "from keras.preprocessing.text import Tokenizer\n",
    "from keras.preprocessing.sequence import pad_sequences\n",
    "from keras.models import Sequential\n",
    "from keras.layers import Dense\n",
    "from numpy import array\n",
    "import sys\n",
    "from keras.layers import LSTM\n",
    "from keras.callbacks import ModelCheckpoint\n",
    "from keras.utils import np_utils\n",
    "from keras.layers import Dropout\n",
    "from keras.layers import Embedding\n",
    "from keras.layers import Bidirectional\n",
    "import re"
   ]
  },
  {
   "cell_type": "code",
   "execution_count": null,
   "metadata": {
    "execution": {
     "iopub.execute_input": "2023-12-01T18:28:53.297104Z",
     "iopub.status.busy": "2023-12-01T18:28:53.296743Z",
     "iopub.status.idle": "2023-12-01T18:31:23.883974Z",
     "shell.execute_reply": "2023-12-01T18:31:23.882533Z",
     "shell.execute_reply.started": "2023-12-01T18:28:53.297069Z"
    }
   },
   "outputs": [],
   "source": [
    "!pip install openpyxl"
   ]
  },
  {
   "cell_type": "code",
   "execution_count": null,
   "metadata": {
    "execution": {
     "iopub.execute_input": "2023-12-01T18:31:23.887203Z",
     "iopub.status.busy": "2023-12-01T18:31:23.886772Z",
     "iopub.status.idle": "2023-12-01T18:31:24.358996Z",
     "shell.execute_reply": "2023-12-01T18:31:24.356275Z",
     "shell.execute_reply.started": "2023-12-01T18:31:23.887159Z"
    },
    "executionInfo": {
     "elapsed": 26432,
     "status": "ok",
     "timestamp": 1613545301176,
     "user": {
      "displayName": "adrish bir",
      "photoUrl": "https://lh3.googleusercontent.com/a-/AOh14GjvnDCPOpuviVvO_227LaSth7sl8OIBxCSMqQmFO4c=s64",
      "userId": "15664726640138518444"
     },
     "user_tz": -330
    },
    "id": "tqfbyHan1lAX",
    "outputId": "3cbf12ac-2ea8-4e85-afc0-fff6674f1690"
   },
   "outputs": [],
   "source": [
    "df = pd.read_csv('../input/pink-floyd-lyrics/pink_floyd_lyrics.csv')\n",
    "pop = pd.read_excel('../input/pink-floyd-popularity-by-album/CSPCPinkFloydTotals-2.xlsx',header=0)\n",
    "df.head()"
   ]
  },
  {
   "cell_type": "code",
   "execution_count": null,
   "metadata": {
    "execution": {
     "iopub.status.busy": "2023-12-01T18:31:24.360630Z",
     "iopub.status.idle": "2023-12-01T18:31:24.361215Z"
    }
   },
   "outputs": [],
   "source": [
    "pop = pop.drop(['Unnamed: 5'],axis=1)\n",
    "pop = pop[1:]\n",
    "pop.rename(columns={\"Unnamed: 1\": \"Year\", \n",
    "                    \"Full Length\": \"Full_Length_Studio_Album\",\n",
    "                    \"Unnamed: 3\": \"Full_Length_Other_releases\",\n",
    "                   \"Singles\":\"Singles_Physical\",\n",
    "                    \"Unnamed: 6\":\"Singles_Digital\",\n",
    "                    \"Unnamed: 7\": \"Singles_Streaming\"}, errors=\"raise\",inplace=True)"
   ]
  },
  {
   "cell_type": "code",
   "execution_count": null,
   "metadata": {
    "execution": {
     "iopub.status.busy": "2023-12-01T18:31:24.362731Z",
     "iopub.status.idle": "2023-12-01T18:31:24.363627Z"
    },
    "executionInfo": {
     "elapsed": 1145,
     "status": "ok",
     "timestamp": 1613128075200,
     "user": {
      "displayName": "adrish bir",
      "photoUrl": "https://lh3.googleusercontent.com/a-/AOh14GjvnDCPOpuviVvO_227LaSth7sl8OIBxCSMqQmFO4c=s64",
      "userId": "15664726640138518444"
     },
     "user_tz": -330
    },
    "id": "KaEsTRhi2vlL",
    "outputId": "5d5aab43-593f-41eb-f085-558c9d0be3e3"
   },
   "outputs": [],
   "source": [
    "df.info()"
   ]
  },
  {
   "cell_type": "markdown",
   "metadata": {
    "id": "ddLvHUqmLtm2"
   },
   "source": [
    "## pink floyd lyrics generator"
   ]
  },
  {
   "cell_type": "code",
   "execution_count": null,
   "metadata": {
    "execution": {
     "iopub.execute_input": "2021-07-04T18:46:16.711302Z",
     "iopub.status.busy": "2021-07-04T18:46:16.710876Z",
     "iopub.status.idle": "2021-07-04T18:46:16.727086Z",
     "shell.execute_reply": "2021-07-04T18:46:16.726037Z",
     "shell.execute_reply.started": "2021-07-04T18:46:16.711267Z"
    }
   },
   "outputs": [],
   "source": [
    "df['year'] = df['year'].apply(lambda x: int(x.split('-')[0]))\n",
    "df.head()"
   ]
  },
  {
   "cell_type": "code",
   "execution_count": null,
   "metadata": {
    "execution": {
     "iopub.execute_input": "2021-07-04T18:46:16.917439Z",
     "iopub.status.busy": "2021-07-04T18:46:16.917051Z",
     "iopub.status.idle": "2021-07-04T18:46:16.927343Z",
     "shell.execute_reply": "2021-07-04T18:46:16.926032Z",
     "shell.execute_reply.started": "2021-07-04T18:46:16.917405Z"
    },
    "executionInfo": {
     "elapsed": 1162,
     "status": "ok",
     "timestamp": 1612014930822,
     "user": {
      "displayName": "adrish bir",
      "photoUrl": "https://lh3.googleusercontent.com/a-/AOh14GjvnDCPOpuviVvO_227LaSth7sl8OIBxCSMqQmFO4c=s64",
      "userId": "15664726640138518444"
     },
     "user_tz": -330
    },
    "id": "FRIIRxXoJFt1",
    "outputId": "424d46d2-3392-4bf0-d400-999034d0a66e"
   },
   "outputs": [],
   "source": [
    "df.year.max()-df.year.min()"
   ]
  },
  {
   "cell_type": "code",
   "execution_count": null,
   "metadata": {
    "execution": {
     "iopub.execute_input": "2021-07-04T18:46:17.08019Z",
     "iopub.status.busy": "2021-07-04T18:46:17.079787Z",
     "iopub.status.idle": "2021-07-04T18:46:17.331806Z",
     "shell.execute_reply": "2021-07-04T18:46:17.330994Z",
     "shell.execute_reply.started": "2021-07-04T18:46:17.080156Z"
    },
    "executionInfo": {
     "elapsed": 1095,
     "status": "ok",
     "timestamp": 1611840178638,
     "user": {
      "displayName": "adrish bir",
      "photoUrl": "https://lh3.googleusercontent.com/a-/AOh14GjvnDCPOpuviVvO_227LaSth7sl8OIBxCSMqQmFO4c=s64",
      "userId": "15664726640138518444"
     },
     "user_tz": -330
    },
    "id": "KKg_Ibfi_0gx",
    "outputId": "346baa3a-53b2-4f38-d434-5ebfe997a7e3"
   },
   "outputs": [],
   "source": [
    "plt.figure(figsize=(12,12),edgecolor='blue')\n",
    "sns.countplot(x=\"year\", data=df)"
   ]
  },
  {
   "cell_type": "code",
   "execution_count": null,
   "metadata": {
    "execution": {
     "iopub.execute_input": "2021-07-04T18:46:17.333616Z",
     "iopub.status.busy": "2021-07-04T18:46:17.333181Z",
     "iopub.status.idle": "2021-07-04T18:46:17.355002Z",
     "shell.execute_reply": "2021-07-04T18:46:17.353926Z",
     "shell.execute_reply.started": "2021-07-04T18:46:17.333574Z"
    }
   },
   "outputs": [],
   "source": [
    "pop"
   ]
  },
  {
   "cell_type": "code",
   "execution_count": null,
   "metadata": {
    "execution": {
     "iopub.execute_input": "2021-07-04T18:46:17.454597Z",
     "iopub.status.busy": "2021-07-04T18:46:17.454224Z",
     "iopub.status.idle": "2021-07-04T18:46:17.462188Z",
     "shell.execute_reply": "2021-07-04T18:46:17.46075Z",
     "shell.execute_reply.started": "2021-07-04T18:46:17.454565Z"
    }
   },
   "outputs": [],
   "source": [
    "pop['Total CSPC'] = [int(i.replace(' ','')) for i in pop['Total CSPC']]\n",
    "pop['Year'] = [str(i) for i in pop['Year']]\n",
    "pop = pop[:-1]"
   ]
  },
  {
   "cell_type": "code",
   "execution_count": null,
   "metadata": {
    "execution": {
     "iopub.execute_input": "2021-07-04T18:46:17.658685Z",
     "iopub.status.busy": "2021-07-04T18:46:17.658286Z",
     "iopub.status.idle": "2021-07-04T18:46:17.937989Z",
     "shell.execute_reply": "2021-07-04T18:46:17.936633Z",
     "shell.execute_reply.started": "2021-07-04T18:46:17.658648Z"
    }
   },
   "outputs": [],
   "source": [
    "plt.figure(figsize=(14, 8))\n",
    "plt.xlabel('Year of Album Release',fontsize=12)\n",
    "plt.ylabel('Total CSPC',fontsize=12)\n",
    "plt.title(\"Pink Floyd's popularity wrt Time\",fontsize=18)\n",
    "plt.plot(pop['Year'],pop['Total CSPC'], color='blue', marker='o', markeredgecolor='green', markerfacecolor='red')\n",
    "plt.savefig('pop_plot.jpeg')"
   ]
  },
  {
   "cell_type": "code",
   "execution_count": null,
   "metadata": {
    "execution": {
     "iopub.execute_input": "2021-07-04T18:46:17.940091Z",
     "iopub.status.busy": "2021-07-04T18:46:17.939788Z",
     "iopub.status.idle": "2021-07-04T18:46:17.981955Z",
     "shell.execute_reply": "2021-07-04T18:46:17.981139Z",
     "shell.execute_reply.started": "2021-07-04T18:46:17.940059Z"
    },
    "executionInfo": {
     "elapsed": 1067,
     "status": "ok",
     "timestamp": 1613315853498,
     "user": {
      "displayName": "adrish bir",
      "photoUrl": "https://lh3.googleusercontent.com/a-/AOh14GjvnDCPOpuviVvO_227LaSth7sl8OIBxCSMqQmFO4c=s64",
      "userId": "15664726640138518444"
     },
     "user_tz": -330
    },
    "id": "2hFv61h64wdQ",
    "outputId": "bdc4979a-de1d-4c31-f500-f05c55ae8b84"
   },
   "outputs": [],
   "source": [
    "def count_lines(text):\n",
    "  count,k,p=0,0,0\n",
    "  for i in text.split('\\n'):\n",
    "    res = re.findall(\"[a-zA-Z’]+\", i)\n",
    "    if res:\n",
    "      p+=1\n",
    "      if len(res)>2:\n",
    "        k+=1\n",
    "        count+=len(res)\n",
    "  if k!=0:\n",
    "    mean = count/k\n",
    "  else:\n",
    "    mean = 2\n",
    "  total = p\n",
    "  big_lines = k\n",
    "  small_lines = (p-k)\n",
    "  \n",
    "  return mean,total,big_lines,small_lines\n",
    "\n",
    "cl = []\n",
    "for j in range(0,len(df)):\n",
    "  if type(df.lyrics.iloc[j])==str :\n",
    "    m,t,bl,sl = count_lines(df.lyrics.iloc[j])\n",
    "    year = int(df.year.iloc[j])\n",
    "    if sl!=0:\n",
    "      l = [m,t,bl,sl,bl/sl,year]\n",
    "    else:\n",
    "      l = [m,t,bl,sl,0,year]\n",
    "    cl.append(l)\n",
    "\n",
    "df_clines = pd.DataFrame(cl,columns=['mean_lines','total_lines','big_lines','small_lines','ratio_of_blsl','year'])\n",
    "df_clines.head()"
   ]
  },
  {
   "cell_type": "code",
   "execution_count": null,
   "metadata": {
    "execution": {
     "iopub.execute_input": "2021-07-04T18:46:17.989184Z",
     "iopub.status.busy": "2021-07-04T18:46:17.988676Z",
     "iopub.status.idle": "2021-07-04T18:46:18.740012Z",
     "shell.execute_reply": "2021-07-04T18:46:18.738783Z",
     "shell.execute_reply.started": "2021-07-04T18:46:17.989115Z"
    },
    "executionInfo": {
     "elapsed": 1952,
     "status": "ok",
     "timestamp": 1613316593484,
     "user": {
      "displayName": "adrish bir",
      "photoUrl": "https://lh3.googleusercontent.com/a-/AOh14GjvnDCPOpuviVvO_227LaSth7sl8OIBxCSMqQmFO4c=s64",
      "userId": "15664726640138518444"
     },
     "user_tz": -330
    },
    "id": "nPBoqin_-65u",
    "outputId": "d9c1b50c-b524-43c2-e437-495fdde6af3b"
   },
   "outputs": [],
   "source": [
    "fig,axs = plt.subplots(2,2,figsize=(10,7))\n",
    "fig.suptitle('Testing Line count')\n",
    "\n",
    "axs[0,0].hist(df_clines['mean_lines'],edgecolor='red')\n",
    "axs[0,0].set_title('Mean Lines')\n",
    "axs[0,1].hist(df_clines['total_lines'],edgecolor='red')\n",
    "axs[0,1].set_title('Total Lines')\n",
    "axs[1,0].hist(df_clines['big_lines'],edgecolor='red')\n",
    "axs[1,0].set_title('Big Lines')\n",
    "axs[1,1].hist(df_clines['ratio_of_blsl'],edgecolor='red')\n",
    "axs[1,1].set_title('Ratio of Big/small lines')"
   ]
  },
  {
   "cell_type": "code",
   "execution_count": null,
   "metadata": {
    "execution": {
     "iopub.execute_input": "2021-07-04T18:46:18.742648Z",
     "iopub.status.busy": "2021-07-04T18:46:18.74221Z",
     "iopub.status.idle": "2021-07-04T18:46:18.763176Z",
     "shell.execute_reply": "2021-07-04T18:46:18.762271Z",
     "shell.execute_reply.started": "2021-07-04T18:46:18.742598Z"
    },
    "executionInfo": {
     "elapsed": 1206,
     "status": "ok",
     "timestamp": 1613316835947,
     "user": {
      "displayName": "adrish bir",
      "photoUrl": "https://lh3.googleusercontent.com/a-/AOh14GjvnDCPOpuviVvO_227LaSth7sl8OIBxCSMqQmFO4c=s64",
      "userId": "15664726640138518444"
     },
     "user_tz": -330
    },
    "id": "avco2iTG6aLP",
    "outputId": "22873597-aaea-439e-e1fa-7c93dae42ee4"
   },
   "outputs": [],
   "source": [
    "df_clines_gb = df_clines.groupby(['year']).mean()\n",
    "df_clines_gb.reset_index(level=0, inplace=True)\n",
    "df_clines_gb"
   ]
  },
  {
   "cell_type": "code",
   "execution_count": null,
   "metadata": {
    "execution": {
     "iopub.execute_input": "2021-07-04T18:46:21.485244Z",
     "iopub.status.busy": "2021-07-04T18:46:21.484806Z",
     "iopub.status.idle": "2021-07-04T18:46:22.27008Z",
     "shell.execute_reply": "2021-07-04T18:46:22.26892Z",
     "shell.execute_reply.started": "2021-07-04T18:46:21.485204Z"
    },
    "executionInfo": {
     "elapsed": 2034,
     "status": "ok",
     "timestamp": 1613318240421,
     "user": {
      "displayName": "adrish bir",
      "photoUrl": "https://lh3.googleusercontent.com/a-/AOh14GjvnDCPOpuviVvO_227LaSth7sl8OIBxCSMqQmFO4c=s64",
      "userId": "15664726640138518444"
     },
     "user_tz": -330
    },
    "id": "nR3oU6mYLWf9",
    "outputId": "40873d3a-f1b2-438f-d266-87ed7e66f610"
   },
   "outputs": [],
   "source": [
    "fig,axs = plt.subplots(2,2,figsize=(20,10))\n",
    "fig.suptitle('Testing Line count')\n",
    "\n",
    "sns.barplot(ax=axs[0,0],x=\"year\",y='mean_lines', data=df_clines_gb)\n",
    "axs[0,0].set_title('Mean Words per Lines')\n",
    "sns.barplot(ax=axs[0,1],x=\"year\",y='total_lines', data=df_clines_gb)\n",
    "axs[0,1].set_title('Total Lines')\n",
    "sns.barplot(ax=axs[1,0],x=\"year\",y='big_lines', data=df_clines_gb)\n",
    "axs[1,0].set_title('Big Lines')\n",
    "sns.barplot(ax=axs[1,1],x=\"year\",y='ratio_of_blsl', data=df_clines_gb)\n",
    "axs[1,1].set_title('Ratio of Big/small lines')\n"
   ]
  },
  {
   "cell_type": "code",
   "execution_count": null,
   "metadata": {
    "execution": {
     "iopub.execute_input": "2021-07-04T18:46:26.876285Z",
     "iopub.status.busy": "2021-07-04T18:46:26.875838Z",
     "iopub.status.idle": "2021-07-04T18:46:26.885659Z",
     "shell.execute_reply": "2021-07-04T18:46:26.88404Z",
     "shell.execute_reply.started": "2021-07-04T18:46:26.876248Z"
    },
    "executionInfo": {
     "elapsed": 1034,
     "status": "ok",
     "timestamp": 1613319046376,
     "user": {
      "displayName": "adrish bir",
      "photoUrl": "https://lh3.googleusercontent.com/a-/AOh14GjvnDCPOpuviVvO_227LaSth7sl8OIBxCSMqQmFO4c=s64",
      "userId": "15664726640138518444"
     },
     "user_tz": -330
    },
    "id": "C-uPqhmsQ4_T",
    "outputId": "ea59a3cf-0b9a-4c32-c52f-6a83716c8018"
   },
   "outputs": [],
   "source": [
    "tokenizer = Tokenizer(char_level=False)\n",
    "tokenizer.fit_on_texts([df.lyrics.iloc[1].replace('\\n',' \\n ')])\n",
    "tokenizer.word_index"
   ]
  },
  {
   "cell_type": "code",
   "execution_count": null,
   "metadata": {
    "execution": {
     "iopub.execute_input": "2021-07-04T18:46:33.807379Z",
     "iopub.status.busy": "2021-07-04T18:46:33.806881Z",
     "iopub.status.idle": "2021-07-04T18:46:33.813762Z",
     "shell.execute_reply": "2021-07-04T18:46:33.81243Z",
     "shell.execute_reply.started": "2021-07-04T18:46:33.807338Z"
    }
   },
   "outputs": [],
   "source": [
    "text = df.lyrics.iloc[1].split('\\n')\n",
    "text = [re.sub(r'\\d+', '', i) for i in text]\n",
    "corpus = list(set(text))"
   ]
  },
  {
   "cell_type": "code",
   "execution_count": null,
   "metadata": {
    "execution": {
     "iopub.execute_input": "2021-07-04T18:46:35.934435Z",
     "iopub.status.busy": "2021-07-04T18:46:35.933987Z",
     "iopub.status.idle": "2021-07-04T18:46:35.941921Z",
     "shell.execute_reply": "2021-07-04T18:46:35.940387Z",
     "shell.execute_reply.started": "2021-07-04T18:46:35.934396Z"
    }
   },
   "outputs": [],
   "source": [
    "corpus"
   ]
  },
  {
   "cell_type": "code",
   "execution_count": null,
   "metadata": {
    "execution": {
     "iopub.execute_input": "2021-07-04T18:46:38.769555Z",
     "iopub.status.busy": "2021-07-04T18:46:38.76912Z",
     "iopub.status.idle": "2021-07-04T18:46:38.78248Z",
     "shell.execute_reply": "2021-07-04T18:46:38.781036Z",
     "shell.execute_reply.started": "2021-07-04T18:46:38.769521Z"
    },
    "executionInfo": {
     "elapsed": 974,
     "status": "ok",
     "timestamp": 1611935152820,
     "user": {
      "displayName": "adrish bir",
      "photoUrl": "https://lh3.googleusercontent.com/a-/AOh14GjvnDCPOpuviVvO_227LaSth7sl8OIBxCSMqQmFO4c=s64",
      "userId": "15664726640138518444"
     },
     "user_tz": -330
    },
    "id": "8SOdVErMuBhP",
    "outputId": "08cec4c0-6280-4553-f459-7596655eaafd"
   },
   "outputs": [],
   "source": [
    "lines=[]\n",
    "\n",
    "for line in corpus:\n",
    "    token_list = tokenizer.texts_to_sequences([line])[0]\n",
    "    print('--'*25)\n",
    "    print(token_list)\n",
    "    print('--'*25)\n",
    "    for i in range(1, len(token_list)):\n",
    "        n_gram_sequence = token_list[:i+1]\n",
    "        print(n_gram_sequence)"
   ]
  },
  {
   "cell_type": "code",
   "execution_count": null,
   "metadata": {
    "execution": {
     "iopub.execute_input": "2021-07-04T18:46:45.382534Z",
     "iopub.status.busy": "2021-07-04T18:46:45.382111Z",
     "iopub.status.idle": "2021-07-04T18:46:45.388185Z",
     "shell.execute_reply": "2021-07-04T18:46:45.38677Z",
     "shell.execute_reply.started": "2021-07-04T18:46:45.382496Z"
    },
    "id": "muR31s_DvEaM"
   },
   "outputs": [],
   "source": [
    "def ngram(token_list):\n",
    "  ng = []\n",
    "  for i in range(1, len(token_list)):\n",
    "    n_gram_sequence = token_list[:i+1]\n",
    "    ng.append(n_gram_sequence)\n",
    "  return ng"
   ]
  },
  {
   "cell_type": "code",
   "execution_count": null,
   "metadata": {
    "execution": {
     "iopub.execute_input": "2021-07-04T18:46:45.637271Z",
     "iopub.status.busy": "2021-07-04T18:46:45.636914Z",
     "iopub.status.idle": "2021-07-04T18:46:45.646689Z",
     "shell.execute_reply": "2021-07-04T18:46:45.64519Z",
     "shell.execute_reply.started": "2021-07-04T18:46:45.637236Z"
    },
    "executionInfo": {
     "elapsed": 3152,
     "status": "ok",
     "timestamp": 1613319179460,
     "user": {
      "displayName": "adrish bir",
      "photoUrl": "https://lh3.googleusercontent.com/a-/AOh14GjvnDCPOpuviVvO_227LaSth7sl8OIBxCSMqQmFO4c=s64",
      "userId": "15664726640138518444"
     },
     "user_tz": -330
    },
    "id": "yurdP7R1UNh5",
    "outputId": "1143856e-10e0-4098-c5b4-a65f924eb659"
   },
   "outputs": [],
   "source": [
    "df.iloc[[0]].lyrics.iloc[0]"
   ]
  },
  {
   "cell_type": "code",
   "execution_count": null,
   "metadata": {
    "execution": {
     "iopub.execute_input": "2021-07-04T18:46:46.523417Z",
     "iopub.status.busy": "2021-07-04T18:46:46.522985Z",
     "iopub.status.idle": "2021-07-04T18:46:46.535511Z",
     "shell.execute_reply": "2021-07-04T18:46:46.534482Z",
     "shell.execute_reply.started": "2021-07-04T18:46:46.523382Z"
    },
    "id": "MNMpI4r0V0ap"
   },
   "outputs": [],
   "source": [
    "def seqform(data):\n",
    "  \n",
    "  tokenise = Tokenizer()\n",
    "  input_sequences = []\n",
    "  corpus = []\n",
    "  k=0\n",
    "\n",
    "  for i in range(0,len(df)):\n",
    "    \n",
    "   text = df.iloc[[i]].lyrics.iloc[0]\n",
    "   if type(text)==float:\n",
    "     pass\n",
    "   else:\n",
    "     text = text.lower().split(\"\\n\")\n",
    "     text = [re.sub(r'\\d+', '', i) for i in text]\n",
    "     text = list(set(text))\n",
    "     if text==' ':\n",
    "       pass\n",
    "     else:\n",
    "       corpus.extend(text)\n",
    "     k+=1\n",
    "  \n",
    "  tokenise.fit_on_texts(corpus)\n",
    "  for line in corpus:\n",
    "    token_list = tokenise.texts_to_sequences([line])[0]\n",
    "    input_sequences.extend(ngram(token_list))\n",
    " \n",
    "  \n",
    "  max_sequence_len = max([len(x) for x in input_sequences])\n",
    "  input_sequences = np.array(pad_sequences(input_sequences,\n",
    "                       maxlen = max_sequence_len, padding='pre'))\n",
    "  \n",
    "  predictors, label = input_sequences[:,:-1],input_sequences[:,-1]\n",
    "  fin_data = pd.DataFrame(np.hstack((predictors, label.reshape(-1,1))),columns=np.hstack((np.arange(1,predictors.shape[1]+1),np.array(['label']))))\n",
    "  total_words = len(tokenise.word_index) + 1\n",
    "  print('{} number of lyrics inputted'.format(k))\n",
    "\n",
    "  return fin_data,tokenise,max_sequence_len,total_words,predictors,label\n",
    "  "
   ]
  },
  {
   "cell_type": "code",
   "execution_count": null,
   "metadata": {
    "execution": {
     "iopub.execute_input": "2021-07-04T18:46:47.003776Z",
     "iopub.status.busy": "2021-07-04T18:46:47.003209Z",
     "iopub.status.idle": "2021-07-04T18:46:47.221872Z",
     "shell.execute_reply": "2021-07-04T18:46:47.220666Z",
     "shell.execute_reply.started": "2021-07-04T18:46:47.003736Z"
    },
    "executionInfo": {
     "elapsed": 1001,
     "status": "ok",
     "timestamp": 1613546021909,
     "user": {
      "displayName": "adrish bir",
      "photoUrl": "https://lh3.googleusercontent.com/a-/AOh14GjvnDCPOpuviVvO_227LaSth7sl8OIBxCSMqQmFO4c=s64",
      "userId": "15664726640138518444"
     },
     "user_tz": -330
    },
    "id": "KrBMBzjaaIP_",
    "outputId": "acbb91a1-45fe-4447-a963-476c4e1c0fde"
   },
   "outputs": [],
   "source": [
    "fdf,tokenise,max_sequence_len,total_words,predictors,label = seqform(df)\n",
    "print(fdf.shape,max_sequence_len,total_words)"
   ]
  },
  {
   "cell_type": "code",
   "execution_count": null,
   "metadata": {
    "execution": {
     "iopub.execute_input": "2021-07-04T18:46:50.122098Z",
     "iopub.status.busy": "2021-07-04T18:46:50.121537Z",
     "iopub.status.idle": "2021-07-04T18:46:50.147972Z",
     "shell.execute_reply": "2021-07-04T18:46:50.146565Z",
     "shell.execute_reply.started": "2021-07-04T18:46:50.122038Z"
    },
    "executionInfo": {
     "elapsed": 976,
     "status": "ok",
     "timestamp": 1613546034168,
     "user": {
      "displayName": "adrish bir",
      "photoUrl": "https://lh3.googleusercontent.com/a-/AOh14GjvnDCPOpuviVvO_227LaSth7sl8OIBxCSMqQmFO4c=s64",
      "userId": "15664726640138518444"
     },
     "user_tz": -330
    },
    "id": "KkRz9iFlPFK2",
    "outputId": "0396a979-d0d9-4f09-dc1a-3159dbb88189"
   },
   "outputs": [],
   "source": [
    "fdf.head(10)"
   ]
  },
  {
   "cell_type": "code",
   "execution_count": null,
   "metadata": {
    "execution": {
     "iopub.execute_input": "2021-07-04T18:47:08.213308Z",
     "iopub.status.busy": "2021-07-04T18:47:08.212733Z",
     "iopub.status.idle": "2021-07-04T18:47:08.394393Z",
     "shell.execute_reply": "2021-07-04T18:47:08.392893Z",
     "shell.execute_reply.started": "2021-07-04T18:47:08.213269Z"
    },
    "id": "I-rcw5bfaZkZ"
   },
   "outputs": [],
   "source": [
    "fdf .to_csv('fin_df.csv',index=False)"
   ]
  },
  {
   "cell_type": "markdown",
   "metadata": {
    "id": "9iacqSJ67l81"
   },
   "source": [
    "## LSTM"
   ]
  },
  {
   "cell_type": "code",
   "execution_count": null,
   "metadata": {
    "execution": {
     "iopub.execute_input": "2021-07-04T18:47:12.308842Z",
     "iopub.status.busy": "2021-07-04T18:47:12.308506Z",
     "iopub.status.idle": "2021-07-04T18:47:12.314176Z",
     "shell.execute_reply": "2021-07-04T18:47:12.313463Z",
     "shell.execute_reply.started": "2021-07-04T18:47:12.308812Z"
    },
    "executionInfo": {
     "elapsed": 1333,
     "status": "ok",
     "timestamp": 1613546075315,
     "user": {
      "displayName": "adrish bir",
      "photoUrl": "https://lh3.googleusercontent.com/a-/AOh14GjvnDCPOpuviVvO_227LaSth7sl8OIBxCSMqQmFO4c=s64",
      "userId": "15664726640138518444"
     },
     "user_tz": -330
    },
    "id": "AUEF9B2SqQIO",
    "outputId": "be12553b-4f9e-4fe2-d66b-558d88b95a0a"
   },
   "outputs": [],
   "source": [
    "print(fdf.shape)\n",
    "print(fdf.values.max())"
   ]
  },
  {
   "cell_type": "code",
   "execution_count": null,
   "metadata": {
    "execution": {
     "iopub.execute_input": "2021-07-04T18:47:15.007903Z",
     "iopub.status.busy": "2021-07-04T18:47:15.007553Z",
     "iopub.status.idle": "2021-07-04T18:47:17.563239Z",
     "shell.execute_reply": "2021-07-04T18:47:17.562309Z",
     "shell.execute_reply.started": "2021-07-04T18:47:15.007863Z"
    },
    "executionInfo": {
     "elapsed": 3624,
     "status": "ok",
     "timestamp": 1613546087734,
     "user": {
      "displayName": "adrish bir",
      "photoUrl": "https://lh3.googleusercontent.com/a-/AOh14GjvnDCPOpuviVvO_227LaSth7sl8OIBxCSMqQmFO4c=s64",
      "userId": "15664726640138518444"
     },
     "user_tz": -330
    },
    "id": "uLLUJX098F-r",
    "outputId": "6873901a-7579-4331-a75a-3d7ab3e7a24e"
   },
   "outputs": [],
   "source": [
    "dataX = [fdf.iloc[i,0:87].tolist() for i in range(0,fdf.shape[0])]\n",
    "dataY = [fdf.iloc[i,87] for i in range(0,fdf.shape[0])]\n",
    "print(len(dataX))\n",
    "print(len(dataY))"
   ]
  },
  {
   "cell_type": "code",
   "execution_count": null,
   "metadata": {
    "execution": {
     "iopub.execute_input": "2021-07-04T18:47:20.883405Z",
     "iopub.status.busy": "2021-07-04T18:47:20.88301Z",
     "iopub.status.idle": "2021-07-04T18:47:21.042797Z",
     "shell.execute_reply": "2021-07-04T18:47:21.041481Z",
     "shell.execute_reply.started": "2021-07-04T18:47:20.88337Z"
    },
    "id": "sLaIQdaY-80h"
   },
   "outputs": [],
   "source": [
    "# reshape X to be [samples, time steps, features]\n",
    "X = np.reshape(dataX, (13839, 87, 1))\n",
    "\n",
    "# one hot encode the output variable\n",
    "y = np_utils.to_categorical(dataY)"
   ]
  },
  {
   "cell_type": "code",
   "execution_count": null,
   "metadata": {
    "execution": {
     "iopub.execute_input": "2021-07-04T18:47:21.227707Z",
     "iopub.status.busy": "2021-07-04T18:47:21.227312Z",
     "iopub.status.idle": "2021-07-04T18:47:21.234523Z",
     "shell.execute_reply": "2021-07-04T18:47:21.233245Z",
     "shell.execute_reply.started": "2021-07-04T18:47:21.227671Z"
    },
    "executionInfo": {
     "elapsed": 1108,
     "status": "ok",
     "timestamp": 1613546117468,
     "user": {
      "displayName": "adrish bir",
      "photoUrl": "https://lh3.googleusercontent.com/a-/AOh14GjvnDCPOpuviVvO_227LaSth7sl8OIBxCSMqQmFO4c=s64",
      "userId": "15664726640138518444"
     },
     "user_tz": -330
    },
    "id": "D0tUfkFWCWbZ",
    "outputId": "2ce85a8a-8907-4d49-f7c8-bfc8603528eb"
   },
   "outputs": [],
   "source": [
    "len(y[0])"
   ]
  },
  {
   "cell_type": "code",
   "execution_count": null,
   "metadata": {
    "execution": {
     "iopub.execute_input": "2021-07-04T18:47:23.390578Z",
     "iopub.status.busy": "2021-07-04T18:47:23.390198Z",
     "iopub.status.idle": "2021-07-04T18:47:23.396443Z",
     "shell.execute_reply": "2021-07-04T18:47:23.395391Z",
     "shell.execute_reply.started": "2021-07-04T18:47:23.390545Z"
    },
    "executionInfo": {
     "elapsed": 1007,
     "status": "ok",
     "timestamp": 1613546154387,
     "user": {
      "displayName": "adrish bir",
      "photoUrl": "https://lh3.googleusercontent.com/a-/AOh14GjvnDCPOpuviVvO_227LaSth7sl8OIBxCSMqQmFO4c=s64",
      "userId": "15664726640138518444"
     },
     "user_tz": -330
    },
    "id": "jDpypzC8yV4j",
    "outputId": "9e5f682d-da2f-480e-d33f-6015a3286004"
   },
   "outputs": [],
   "source": [
    "print(predictors.shape)\n",
    "print(label.shape)\n",
    "print(X.shape,y.shape)\n",
    "print(total_words,max_sequence_len)"
   ]
  },
  {
   "cell_type": "code",
   "execution_count": null,
   "metadata": {
    "execution": {
     "iopub.execute_input": "2021-07-04T18:47:27.188363Z",
     "iopub.status.busy": "2021-07-04T18:47:27.18789Z",
     "iopub.status.idle": "2021-07-04T18:47:28.200269Z",
     "shell.execute_reply": "2021-07-04T18:47:28.199218Z",
     "shell.execute_reply.started": "2021-07-04T18:47:27.188321Z"
    },
    "executionInfo": {
     "elapsed": 2333,
     "status": "ok",
     "timestamp": 1613546185554,
     "user": {
      "displayName": "adrish bir",
      "photoUrl": "https://lh3.googleusercontent.com/a-/AOh14GjvnDCPOpuviVvO_227LaSth7sl8OIBxCSMqQmFO4c=s64",
      "userId": "15664726640138518444"
     },
     "user_tz": -330
    },
    "id": "KyvyiQd2VhLY",
    "outputId": "faed00e3-386d-4872-971f-08d6510b6eac"
   },
   "outputs": [],
   "source": [
    "model = Sequential()\n",
    "model.add(Embedding(total_words, 150, input_length=max_sequence_len-1))\n",
    "# Add an LSTM Layer\n",
    "model.add(Bidirectional(LSTM(150, return_sequences=True)))  \n",
    "# A dropout layer for regularisation\n",
    "model.add(Dropout(0.2))\n",
    "# Add another LSTM Layer\n",
    "model.add(LSTM(100)) \n",
    "model.add(Dense(total_words/2, activation='relu'))  \n",
    "# In the last layer, the shape should be equal to the total number of words present in our corpus\n",
    "model.add(Dense(y.shape[1], activation='softmax'))\n",
    "#model.add(Dense(total_words, activation='softmax'))\n",
    "model.compile(loss='categorical_crossentropy', optimizer='adam', metrics='accuracy')  #(# Pick a loss function and an optimizer)\n",
    "print(model.summary())"
   ]
  },
  {
   "cell_type": "code",
   "execution_count": null,
   "metadata": {
    "execution": {
     "iopub.execute_input": "2021-07-04T18:47:36.871488Z",
     "iopub.status.busy": "2021-07-04T18:47:36.871087Z",
     "iopub.status.idle": "2021-07-04T18:47:36.879723Z",
     "shell.execute_reply": "2021-07-04T18:47:36.878337Z",
     "shell.execute_reply.started": "2021-07-04T18:47:36.871454Z"
    },
    "id": "ZhOKudeLGozP"
   },
   "outputs": [],
   "source": [
    "# define the checkpoint\n",
    "filepath=\"weights-improvement-{epoch:02d}-{loss:.4f}.hdf5\"\n",
    "checkpoint = ModelCheckpoint(filepath, monitor='loss', verbose=1, save_best_only=True, mode='min')\n",
    "callbacks_list = [checkpoint]"
   ]
  },
  {
   "cell_type": "code",
   "execution_count": null,
   "metadata": {
    "id": "A_VFkROyG5V_",
    "outputId": "20869049-731f-4cab-b75f-014bf770a7a7"
   },
   "outputs": [],
   "source": [
    "model.fit(X,y, epochs= 60,callbacks=callbacks_list)\n",
    "#model.fit(predictors, label, epochs=100, callbacks=callbacks_list)"
   ]
  },
  {
   "cell_type": "code",
   "execution_count": null,
   "metadata": {
    "id": "igCgWbghHBk5"
   },
   "outputs": [],
   "source": [
    "#37-4.9734\n",
    "filename = \"weights-improvement-50-0.8289.hdf5\"\n",
    "model.load_weights(filename)\n",
    "model.compile(loss='categorical_crossentropy', optimizer='adam',metrics='accuracy')\n",
    "model.fit(X, y, epochs=20, callbacks=callbacks_list)"
   ]
  },
  {
   "cell_type": "code",
   "execution_count": null,
   "metadata": {
    "id": "GVMnHjNWlaZe"
   },
   "outputs": [],
   "source": [
    "model.save_weights(Data_dir+'my_model_weights.h5')\n",
    "model.save(Data_dir+'my_model.h5')"
   ]
  },
  {
   "cell_type": "code",
   "execution_count": null,
   "metadata": {
    "executionInfo": {
     "elapsed": 6282,
     "status": "ok",
     "timestamp": 1613135308139,
     "user": {
      "displayName": "adrish bir",
      "photoUrl": "https://lh3.googleusercontent.com/a-/AOh14GjvnDCPOpuviVvO_227LaSth7sl8OIBxCSMqQmFO4c=s64",
      "userId": "15664726640138518444"
     },
     "user_tz": -330
    },
    "id": "ND5dXPvfTDYm",
    "outputId": "9d639198-1fb1-4175-8ffe-31e202479b59"
   },
   "outputs": [],
   "source": [
    "model.save(Data_dir + 'saved_model/my_model')"
   ]
  },
  {
   "cell_type": "code",
   "execution_count": null,
   "metadata": {
    "execution": {
     "iopub.execute_input": "2021-07-04T18:47:50.930468Z",
     "iopub.status.busy": "2021-07-04T18:47:50.930045Z",
     "iopub.status.idle": "2021-07-04T18:47:50.938572Z",
     "shell.execute_reply": "2021-07-04T18:47:50.937625Z",
     "shell.execute_reply.started": "2021-07-04T18:47:50.930431Z"
    },
    "id": "s5U9dK_Yb-Km"
   },
   "outputs": [],
   "source": [
    "def make_lyrics(seed_text, next_words):\n",
    "    pred_index=[]\n",
    "    for i in range(next_words):\n",
    "        token_list = tokenise.texts_to_sequences([seed_text])[0]\n",
    "        token_list = pad_sequences([token_list],\n",
    "                     maxlen=max_sequence_len-1,padding='pre')\n",
    "        #print(token_list.shape)\n",
    "        token_list = np.reshape(token_list, (1, max_sequence_len-1, 1))\n",
    "        predicted = model.predict(token_list, verbose=0)\n",
    "        predicted_index =  np.argmax(predicted)\n",
    "        pred_index.append(predicted_index)\n",
    "        \n",
    "\n",
    "\n",
    "        #predicted_index=1\n",
    "        output_word = \"\"\n",
    "        for word, index in tokenise.word_index.items():\n",
    "            if index == predicted_index:\n",
    "                output_word = word\n",
    "                break\n",
    "        seed_text += \" \" + output_word\n",
    "    print(seed_text)\n",
    "    return seed_text"
   ]
  },
  {
   "cell_type": "code",
   "execution_count": null,
   "metadata": {
    "_kg_hide-output": false,
    "executionInfo": {
     "elapsed": 1193,
     "status": "ok",
     "timestamp": 1613561835797,
     "user": {
      "displayName": "adrish bir",
      "photoUrl": "https://lh3.googleusercontent.com/a-/AOh14GjvnDCPOpuviVvO_227LaSth7sl8OIBxCSMqQmFO4c=s64",
      "userId": "15664726640138518444"
     },
     "user_tz": -330
    },
    "id": "mYS3BWzhiAc3",
    "outputId": "ebe813d2-ed8d-43f3-b361-e6a0f5969e28"
   },
   "outputs": [],
   "source": [
    "reverse_word_map = dict(map(reversed, tokenise.word_index.items()))\n",
    "start = np.random.randint(0, len(dataX)-1)\n",
    "pattern = dataX[start]\n",
    "pattern_val = [i for i in pattern if i>0]\n",
    "print(\"Seed:\")\n",
    "print(' '.join([reverse_word_map.get(value) for value in pattern_val]))\n",
    "seed_text = [reverse_word_map.get(value)+' ' for value in pattern_val]"
   ]
  },
  {
   "attachments": {
    "Screenshot%20%28126%29.png": {
     "image/png": "[encoded data removed]"
    }
   },
   "cell_type": "markdown",
   "metadata": {},
   "source": [
    "![Screenshot%20%28126%29.png](attachment:Screenshot%20%28126%29.png)"
   ]
  },
  {
   "cell_type": "code",
   "execution_count": null,
   "metadata": {
    "id": "H5JJgkgZNx6v"
   },
   "outputs": [],
   "source": [
    "import pickle\n",
    "\n",
    "# saving\n",
    "with open(Data_dir+'tokenizer.pickle', 'wb') as handle:\n",
    "    pickle.dump(tokenise, handle, protocol=pickle.HIGHEST_PROTOCOL)\n",
    "\n",
    "# loading\n",
    "#with open('tokenizer.pickle', 'rb') as handle:\n",
    "#    tokenizer = pickle.load(handle)"
   ]
  }
 ],
 "metadata": {
  "kaggle": {
   "accelerator": "none",
   "dataSources": [
    {
     "datasetId": 488316,
     "sourceId": 909710,
     "sourceType": "datasetVersion"
    },
    {
     "datasetId": 1447885,
     "sourceId": 2394710,
     "sourceType": "datasetVersion"
    }
   ],
   "dockerImageVersionId": 30066,
   "isGpuEnabled": false,
   "isInternetEnabled": false,
   "language": "python",
   "sourceType": "notebook"
  },
  "kernelspec": {
   "display_name": "Python 3 (ipykernel)",
   "language": "python",
   "name": "python3"
  },
  "language_info": {
   "codemirror_mode": {
    "name": "ipython",
    "version": 3
   },
   "file_extension": ".py",
   "mimetype": "text/x-python",
   "name": "python",
   "nbconvert_exporter": "python",
   "pygments_lexer": "ipython3",
   "version": "3.11.4"
  }
 },
 "nbformat": 4,
 "nbformat_minor": 4
}
